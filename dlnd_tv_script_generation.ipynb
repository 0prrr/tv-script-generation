{
 "cells": [
  {
   "cell_type": "markdown",
   "metadata": {
    "deletable": true,
    "editable": true
   },
   "source": [
    "# TV Script Generation\n",
    "In this project, you'll generate your own [Simpsons](https://en.wikipedia.org/wiki/The_Simpsons) TV scripts using RNNs.  You'll be using part of the [Simpsons dataset](https://www.kaggle.com/wcukierski/the-simpsons-by-the-data) of scripts from 27 seasons.  The Neural Network you'll build will generate a new TV script for a scene at [Moe's Tavern](https://simpsonswiki.com/wiki/Moe's_Tavern).\n",
    "## Get the Data\n",
    "The data is already provided for you.  You'll be using a subset of the original dataset.  It consists of only the scenes in Moe's Tavern.  This doesn't include other versions of the tavern, like \"Moe's Cavern\", \"Flaming Moe's\", \"Uncle Moe's Family Feed-Bag\", etc.."
   ]
  },
  {
   "cell_type": "code",
   "execution_count": 1,
   "metadata": {
    "collapsed": false,
    "deletable": true,
    "editable": true
   },
   "outputs": [],
   "source": [
    "\"\"\"\n",
    "DON'T MODIFY ANYTHING IN THIS CELL\n",
    "\"\"\"\n",
    "import helper\n",
    "\n",
    "data_dir = './data/simpsons/moes_tavern_lines.txt'\n",
    "text = helper.load_data(data_dir)\n",
    "# Ignore notice, since we don't use it for analysing the data\n",
    "text = text[81:]"
   ]
  },
  {
   "cell_type": "markdown",
   "metadata": {
    "deletable": true,
    "editable": true
   },
   "source": [
    "## Explore the Data\n",
    "Play around with `view_sentence_range` to view different parts of the data."
   ]
  },
  {
   "cell_type": "code",
   "execution_count": 2,
   "metadata": {
    "collapsed": false,
    "deletable": true,
    "editable": true
   },
   "outputs": [
    {
     "name": "stdout",
     "output_type": "stream",
     "text": [
      "Dataset Stats\n",
      "Roughly the number of unique words: 11492\n",
      "Number of scenes: 262\n",
      "Average number of sentences in each scene: 15.248091603053435\n",
      "Number of lines: 4257\n",
      "Average number of words in each line: 11.50434578341555\n",
      "\n",
      "The sentences 0 to 10:\n",
      "Moe_Szyslak: (INTO PHONE) Moe's Tavern. Where the elite meet to drink.\n",
      "Bart_Simpson: Eh, yeah, hello, is Mike there? Last name, Rotch.\n",
      "Moe_Szyslak: (INTO PHONE) Hold on, I'll check. (TO BARFLIES) Mike Rotch. Mike Rotch. Hey, has anybody seen Mike Rotch, lately?\n",
      "Moe_Szyslak: (INTO PHONE) Listen you little puke. One of these days I'm gonna catch you, and I'm gonna carve my name on your back with an ice pick.\n",
      "Moe_Szyslak: What's the matter Homer? You're not your normal effervescent self.\n",
      "Homer_Simpson: I got my problems, Moe. Give me another one.\n",
      "Moe_Szyslak: Homer, hey, you should not drink to forget your problems.\n",
      "Barney_Gumble: Yeah, you should only drink to enhance your social skills.\n",
      "\n",
      "\n"
     ]
    }
   ],
   "source": [
    "view_sentence_range = (0, 10)\n",
    "\n",
    "\"\"\"\n",
    "DON'T MODIFY ANYTHING IN THIS CELL\n",
    "\"\"\"\n",
    "import numpy as np\n",
    "\n",
    "print('Dataset Stats')\n",
    "print('Roughly the number of unique words: {}'.format(len({word: None for word in text.split()})))\n",
    "scenes = text.split('\\n\\n')\n",
    "print('Number of scenes: {}'.format(len(scenes)))\n",
    "sentence_count_scene = [scene.count('\\n') for scene in scenes]\n",
    "print('Average number of sentences in each scene: {}'.format(np.average(sentence_count_scene)))\n",
    "\n",
    "sentences = [sentence for scene in scenes for sentence in scene.split('\\n')]\n",
    "print('Number of lines: {}'.format(len(sentences)))\n",
    "word_count_sentence = [len(sentence.split()) for sentence in sentences]\n",
    "print('Average number of words in each line: {}'.format(np.average(word_count_sentence)))\n",
    "\n",
    "print()\n",
    "print('The sentences {} to {}:'.format(*view_sentence_range))\n",
    "print('\\n'.join(text.split('\\n')[view_sentence_range[0]:view_sentence_range[1]]))"
   ]
  },
  {
   "cell_type": "markdown",
   "metadata": {
    "deletable": true,
    "editable": true
   },
   "source": [
    "## Implement Preprocessing Functions\n",
    "The first thing to do to any dataset is preprocessing.  Implement the following preprocessing functions below:\n",
    "- Lookup Table\n",
    "- Tokenize Punctuation\n",
    "\n",
    "### Lookup Table\n",
    "To create a word embedding, you first need to transform the words to ids.  In this function, create two dictionaries:\n",
    "- Dictionary to go from the words to an id, we'll call `vocab_to_int`\n",
    "- Dictionary to go from the id to word, we'll call `int_to_vocab`\n",
    "\n",
    "Return these dictionaries in the following tuple `(vocab_to_int, int_to_vocab)`"
   ]
  },
  {
   "cell_type": "code",
   "execution_count": 3,
   "metadata": {
    "collapsed": false,
    "deletable": true,
    "editable": true
   },
   "outputs": [
    {
     "name": "stdout",
     "output_type": "stream",
     "text": [
      "Tests Passed\n"
     ]
    }
   ],
   "source": [
    "import numpy as np\n",
    "import problem_unittests as tests\n",
    "\n",
    "def create_lookup_tables(text):\n",
    "    \"\"\"\n",
    "    Create lookup tables for vocabulary\n",
    "    :param text: The text of tv scripts split into words\n",
    "    :return: A tuple of dicts (vocab_to_int, int_to_vocab)\n",
    "    \"\"\"\n",
    "    vocab = set(text)\n",
    "    \n",
    "    vocab_to_int = {word: idx for idx, word in enumerate(vocab)}\n",
    "    int_to_vocab = dict(enumerate(vocab))\n",
    "    \n",
    "    return (vocab_to_int, int_to_vocab)\n",
    "\n",
    "\n",
    "\"\"\"\n",
    "DON'T MODIFY ANYTHING IN THIS CELL THAT IS BELOW THIS LINE\n",
    "\"\"\"\n",
    "tests.test_create_lookup_tables(create_lookup_tables)"
   ]
  },
  {
   "cell_type": "markdown",
   "metadata": {
    "deletable": true,
    "editable": true
   },
   "source": [
    "### Tokenize Punctuation\n",
    "We'll be splitting the script into a word array using spaces as delimiters.  However, punctuations like periods and exclamation marks make it hard for the neural network to distinguish between the word \"bye\" and \"bye!\".\n",
    "\n",
    "Implement the function `token_lookup` to return a dict that will be used to tokenize symbols like \"!\" into \"||Exclamation_Mark||\".  Create a dictionary for the following symbols where the symbol is the key and value is the token:\n",
    "- Period ( . )\n",
    "- Comma ( , )\n",
    "- Quotation Mark ( \" )\n",
    "- Semicolon ( ; )\n",
    "- Exclamation mark ( ! )\n",
    "- Question mark ( ? )\n",
    "- Left Parentheses ( ( )\n",
    "- Right Parentheses ( ) )\n",
    "- Dash ( -- )\n",
    "- Return ( \\n )\n",
    "\n",
    "This dictionary will be used to token the symbols and add the delimiter (space) around it.  This separates the symbols as it's own word, making it easier for the neural network to predict on the next word. Make sure you don't use a token that could be confused as a word. Instead of using the token \"dash\", try using something like \"||dash||\"."
   ]
  },
  {
   "cell_type": "code",
   "execution_count": 4,
   "metadata": {
    "collapsed": false,
    "deletable": true,
    "editable": true
   },
   "outputs": [
    {
     "name": "stdout",
     "output_type": "stream",
     "text": [
      "Tests Passed\n"
     ]
    }
   ],
   "source": [
    "def token_lookup():\n",
    "    \"\"\"\n",
    "    Generate a dict to turn punctuation into a token.\n",
    "    :return: Tokenize dictionary where the key is the punctuation and the value is the token\n",
    "    \"\"\"\n",
    "    symbols = set(['.', ',', '\"', ';', '!', '?', '(', ')', '--', '\\n'])\n",
    "    \n",
    "    tokens = [\"||Period||\", \"||Comma||\", \"||Quotation_Mark||\",\n",
    "             \"||Semicolon||\",\"||Exclamation_Mark||\", \"||Question_Mark||\",\n",
    "             \"||Period||\",\"||Colon||\", \"||Semicolon||\",\n",
    "             \"||Left_Parentheses||\", \"||Right_Parentheses||\", \"||Right_Parentheses||\",\n",
    "             \"||Dash||\", \"||Return||\"]\n",
    "\n",
    "    \n",
    "    return dict(zip(symbols, tokens))\n",
    "\n",
    "\"\"\"\n",
    "DON'T MODIFY ANYTHING IN THIS CELL THAT IS BELOW THIS LINE\n",
    "\"\"\"\n",
    "tests.test_tokenize(token_lookup)"
   ]
  },
  {
   "cell_type": "markdown",
   "metadata": {
    "deletable": true,
    "editable": true
   },
   "source": [
    "## Preprocess all the data and save it\n",
    "Running the code cell below will preprocess all the data and save it to file."
   ]
  },
  {
   "cell_type": "code",
   "execution_count": 5,
   "metadata": {
    "collapsed": false,
    "deletable": true,
    "editable": true
   },
   "outputs": [],
   "source": [
    "\"\"\"\n",
    "DON'T MODIFY ANYTHING IN THIS CELL\n",
    "\"\"\"\n",
    "# Preprocess Training, Validation, and Testing Data\n",
    "helper.preprocess_and_save_data(data_dir, token_lookup, create_lookup_tables)"
   ]
  },
  {
   "cell_type": "markdown",
   "metadata": {
    "deletable": true,
    "editable": true
   },
   "source": [
    "# Check Point\n",
    "This is your first checkpoint. If you ever decide to come back to this notebook or have to restart the notebook, you can start from here. The preprocessed data has been saved to disk."
   ]
  },
  {
   "cell_type": "code",
   "execution_count": 6,
   "metadata": {
    "collapsed": false,
    "deletable": true,
    "editable": true
   },
   "outputs": [],
   "source": [
    "\"\"\"\n",
    "DON'T MODIFY ANYTHING IN THIS CELL\n",
    "\"\"\"\n",
    "import helper\n",
    "import numpy as np\n",
    "import problem_unittests as tests\n",
    "\n",
    "int_text, vocab_to_int, int_to_vocab, token_dict = helper.load_preprocess()"
   ]
  },
  {
   "cell_type": "markdown",
   "metadata": {
    "deletable": true,
    "editable": true
   },
   "source": [
    "## Build the Neural Network\n",
    "You'll build the components necessary to build a RNN by implementing the following functions below:\n",
    "- get_inputs\n",
    "- get_init_cell\n",
    "- get_embed\n",
    "- build_rnn\n",
    "- build_nn\n",
    "- get_batches\n",
    "\n",
    "### Check the Version of TensorFlow and Access to GPU"
   ]
  },
  {
   "cell_type": "code",
   "execution_count": 7,
   "metadata": {
    "collapsed": false,
    "deletable": true,
    "editable": true
   },
   "outputs": [
    {
     "name": "stdout",
     "output_type": "stream",
     "text": [
      "TensorFlow Version: 1.0.0\n",
      "Default GPU Device: /gpu:0\n"
     ]
    }
   ],
   "source": [
    "\"\"\"\n",
    "DON'T MODIFY ANYTHING IN THIS CELL\n",
    "\"\"\"\n",
    "from distutils.version import LooseVersion\n",
    "import warnings\n",
    "import tensorflow as tf\n",
    "\n",
    "# Check TensorFlow Version\n",
    "assert LooseVersion(tf.__version__) >= LooseVersion('1.0'), 'Please use TensorFlow version 1.0 or newer'\n",
    "print('TensorFlow Version: {}'.format(tf.__version__))\n",
    "\n",
    "# Check for a GPU\n",
    "if not tf.test.gpu_device_name():\n",
    "    warnings.warn('No GPU found. Please use a GPU to train your neural network.')\n",
    "else:\n",
    "    print('Default GPU Device: {}'.format(tf.test.gpu_device_name()))"
   ]
  },
  {
   "cell_type": "markdown",
   "metadata": {
    "deletable": true,
    "editable": true
   },
   "source": [
    "### Input\n",
    "Implement the `get_inputs()` function to create TF Placeholders for the Neural Network.  It should create the following placeholders:\n",
    "- Input text placeholder named \"input\" using the [TF Placeholder](https://www.tensorflow.org/api_docs/python/tf/placeholder) `name` parameter.\n",
    "- Targets placeholder\n",
    "- Learning Rate placeholder\n",
    "\n",
    "Return the placeholders in the following tuple `(Input, Targets, LearningRate)`"
   ]
  },
  {
   "cell_type": "code",
   "execution_count": 8,
   "metadata": {
    "collapsed": false,
    "deletable": true,
    "editable": true
   },
   "outputs": [
    {
     "name": "stdout",
     "output_type": "stream",
     "text": [
      "Tests Passed\n"
     ]
    }
   ],
   "source": [
    "def get_inputs():\n",
    "    \"\"\"\n",
    "    Create TF Placeholders for input, targets, and learning rate.\n",
    "    :return: Tuple (input, targets, learning rate)\n",
    "    \"\"\"\n",
    "    \n",
    "    inputs = tf.placeholder(tf.int32, [None, None], name='input')\n",
    "    targets = tf.placeholder(tf.int32, [None, None], name='target')\n",
    "    learning_rate = tf.placeholder(tf.float32, name='learning_rate')\n",
    "    \n",
    "    return inputs, targets, learning_rate\n",
    "\n",
    "\"\"\"\n",
    "DON'T MODIFY ANYTHING IN THIS CELL THAT IS BELOW THIS LINE\n",
    "\"\"\"\n",
    "tests.test_get_inputs(get_inputs)"
   ]
  },
  {
   "cell_type": "markdown",
   "metadata": {
    "deletable": true,
    "editable": true
   },
   "source": [
    "### Build RNN Cell and Initialize\n",
    "Stack one or more [`BasicLSTMCells`](https://www.tensorflow.org/api_docs/python/tf/contrib/rnn/BasicLSTMCell) in a [`MultiRNNCell`](https://www.tensorflow.org/api_docs/python/tf/contrib/rnn/MultiRNNCell).\n",
    "- The Rnn size should be set using `rnn_size`\n",
    "- Initalize Cell State using the MultiRNNCell's [`zero_state()`](https://www.tensorflow.org/api_docs/python/tf/contrib/rnn/MultiRNNCell#zero_state) function\n",
    "    - Apply the name \"initial_state\" to the initial state using [`tf.identity()`](https://www.tensorflow.org/api_docs/python/tf/identity)\n",
    "\n",
    "Return the cell and initial state in the following tuple `(Cell, InitialState)`"
   ]
  },
  {
   "cell_type": "code",
   "execution_count": 9,
   "metadata": {
    "collapsed": false,
    "deletable": true,
    "editable": true
   },
   "outputs": [
    {
     "name": "stdout",
     "output_type": "stream",
     "text": [
      "Tests Passed\n"
     ]
    }
   ],
   "source": [
    "def get_init_cell(batch_size, rnn_size):\n",
    "    \"\"\"\n",
    "    Create an RNN Cell and initialize it.\n",
    "    :param batch_size: Size of batches\n",
    "    :param rnn_size: Size of RNNs\n",
    "    :return: Tuple (cell, initialize state)\n",
    "    \"\"\"\n",
    "    \n",
    "    # number of lstm cells\n",
    "    num_layers = 2\n",
    "    \n",
    "    # drop-out probability\n",
    "    keep_prob = 0.5\n",
    "    \n",
    "    lstm = tf.contrib.rnn.BasicLSTMCell(rnn_size)\n",
    "    \n",
    "    drop = tf.contrib.rnn.DropoutWrapper(lstm, output_keep_prob=keep_prob)\n",
    "    \n",
    "    lstm = tf.contrib.rnn.MultiRNNCell([drop for _ in range(num_layers)])\n",
    "    \n",
    "    init = lstm.zero_state(batch_size, tf.float32)\n",
    "    \n",
    "    init_state = tf.identity(init, name='initial_state')\n",
    "    \n",
    "    return lstm, init_state\n",
    "\n",
    "\"\"\"\n",
    "DON'T MODIFY ANYTHING IN THIS CELL THAT IS BELOW THIS LINE\n",
    "\"\"\"\n",
    "tests.test_get_init_cell(get_init_cell)"
   ]
  },
  {
   "cell_type": "markdown",
   "metadata": {
    "deletable": true,
    "editable": true
   },
   "source": [
    "### Word Embedding\n",
    "Apply embedding to `input_data` using TensorFlow.  Return the embedded sequence."
   ]
  },
  {
   "cell_type": "code",
   "execution_count": 10,
   "metadata": {
    "collapsed": false,
    "deletable": true,
    "editable": true
   },
   "outputs": [
    {
     "name": "stdout",
     "output_type": "stream",
     "text": [
      "Tests Passed\n"
     ]
    }
   ],
   "source": [
    "def get_embed(input_data, vocab_size, embed_dim):\n",
    "    \"\"\"\n",
    "    Create embedding for <input_data>.\n",
    "    :param input_data: TF placeholder for text input.\n",
    "    :param vocab_size: Number of words in vocabulary.\n",
    "    :param embed_dim: Number of embedding dimensions\n",
    "    :return: Embedded input.\n",
    "    \"\"\"\n",
    "    embedding = tf.Variable(tf.random_uniform((vocab_size, embed_dim)), dtype=tf.float32)\n",
    "    \n",
    "    embed = tf.nn.embedding_lookup(embedding, input_data)\n",
    "    \n",
    "    return embed\n",
    "\n",
    "\n",
    "\"\"\"\n",
    "DON'T MODIFY ANYTHING IN THIS CELL THAT IS BELOW THIS LINE\n",
    "\"\"\"\n",
    "tests.test_get_embed(get_embed)"
   ]
  },
  {
   "cell_type": "markdown",
   "metadata": {
    "deletable": true,
    "editable": true
   },
   "source": [
    "### Build RNN\n",
    "You created a RNN Cell in the `get_init_cell()` function.  Time to use the cell to create a RNN.\n",
    "- Build the RNN using the [`tf.nn.dynamic_rnn()`](https://www.tensorflow.org/api_docs/python/tf/nn/dynamic_rnn)\n",
    " - Apply the name \"final_state\" to the final state using [`tf.identity()`](https://www.tensorflow.org/api_docs/python/tf/identity)\n",
    "\n",
    "Return the outputs and final_state state in the following tuple `(Outputs, FinalState)` "
   ]
  },
  {
   "cell_type": "code",
   "execution_count": 11,
   "metadata": {
    "collapsed": false,
    "deletable": true,
    "editable": true
   },
   "outputs": [
    {
     "name": "stdout",
     "output_type": "stream",
     "text": [
      "Tests Passed\n"
     ]
    }
   ],
   "source": [
    "def build_rnn(cell, inputs):\n",
    "    \"\"\"\n",
    "    Create a RNN using a RNN Cell\n",
    "    :param cell: RNN Cell\n",
    "    :param inputs: Input text data\n",
    "    :return: Tuple (Outputs, Final State)\n",
    "    \"\"\"\n",
    "    \n",
    "    outputs, final_state = tf.nn.dynamic_rnn(cell, inputs, dtype=tf.float32)\n",
    "    \n",
    "    final_state = tf.identity(final_state, name=\"final_state\")\n",
    "    \n",
    "    return (outputs, final_state)\n",
    "\n",
    "\n",
    "\"\"\"\n",
    "DON'T MODIFY ANYTHING IN THIS CELL THAT IS BELOW THIS LINE\n",
    "\"\"\"\n",
    "tests.test_build_rnn(build_rnn)"
   ]
  },
  {
   "cell_type": "markdown",
   "metadata": {
    "deletable": true,
    "editable": true
   },
   "source": [
    "### Build the Neural Network\n",
    "Apply the functions you implemented above to:\n",
    "- Apply embedding to `input_data` using your `get_embed(input_data, vocab_size, embed_dim)` function.\n",
    "- Build RNN using `cell` and your `build_rnn(cell, inputs)` function.\n",
    "- Apply a fully connected layer with a linear activation and `vocab_size` as the number of outputs.\n",
    "\n",
    "Return the logits and final state in the following tuple (Logits, FinalState) "
   ]
  },
  {
   "cell_type": "code",
   "execution_count": 12,
   "metadata": {
    "collapsed": false,
    "deletable": true,
    "editable": true
   },
   "outputs": [
    {
     "name": "stdout",
     "output_type": "stream",
     "text": [
      "Tests Passed\n"
     ]
    }
   ],
   "source": [
    "def build_nn(cell, rnn_size, input_data, vocab_size, embed_dim):\n",
    "    \"\"\"\n",
    "    Build part of the neural network\n",
    "    :param cell: RNN cell\n",
    "    :param rnn_size: Size of rnns\n",
    "    :param input_data: Input data\n",
    "    :param vocab_size: Vocabulary size\n",
    "    :param embed_dim: Number of embedding dimensions\n",
    "    :return: Tuple (Logits, FinalState)\n",
    "    \"\"\"\n",
    "    \n",
    "    embed = get_embed(input_data, vocab_size, rnn_size)\n",
    "    \n",
    "    outputs, final_state = build_rnn(cell, embed)\n",
    "    \n",
    "    # remember to initialize weights and biases, or the loss will stuck at a very high point\n",
    "    logits = tf.contrib.layers.fully_connected(outputs, vocab_size, activation_fn=None,\n",
    "                                               weights_initializer = tf.truncated_normal_initializer(stddev=0.1),\n",
    "                                               biases_initializer=tf.zeros_initializer())\n",
    "    \n",
    "    return (logits, final_state)\n",
    "\n",
    "\"\"\"\n",
    "DON'T MODIFY ANYTHING IN THIS CELL THAT IS BELOW THIS LINE\n",
    "\"\"\"\n",
    "tests.test_build_nn(build_nn)"
   ]
  },
  {
   "cell_type": "markdown",
   "metadata": {
    "deletable": true,
    "editable": true
   },
   "source": [
    "### Batches\n",
    "Implement `get_batches` to create batches of input and targets using `int_text`.  The batches should be a Numpy array with the shape `(number of batches, 2, batch size, sequence length)`. Each batch contains two elements:\n",
    "- The first element is a single batch of **input** with the shape `[batch size, sequence length]`\n",
    "- The second element is a single batch of **targets** with the shape `[batch size, sequence length]`\n",
    "\n",
    "If you can't fill the last batch with enough data, drop the last batch.\n",
    "\n",
    "For exmple, `get_batches([1, 2, 3, 4, 5, 6, 7, 8, 9, 10, 11, 12, 13, 14, 15, 16, 17, 18, 19, 20], 3, 2)` would return a Numpy array of the following:\n",
    "```\n",
    "[\n",
    "  # First Batch\n",
    "  [\n",
    "    # Batch of Input\n",
    "    [[ 1  2], [ 7  8], [13 14]]\n",
    "    # Batch of targets\n",
    "    [[ 2  3], [ 8  9], [14 15]]\n",
    "  ]\n",
    "\n",
    "  # Second Batch\n",
    "  [\n",
    "    # Batch of Input\n",
    "    [[ 3  4], [ 9 10], [15 16]]\n",
    "    # Batch of targets\n",
    "    [[ 4  5], [10 11], [16 17]]\n",
    "  ]\n",
    "\n",
    "  # Third Batch\n",
    "  [\n",
    "    # Batch of Input\n",
    "    [[ 5  6], [11 12], [17 18]]\n",
    "    # Batch of targets\n",
    "    [[ 6  7], [12 13], [18  1]]\n",
    "  ]\n",
    "]\n",
    "```\n",
    "\n",
    "Notice that the last target value in the last batch is the first input value of the first batch. In this case, `1`. This is a common technique used when creating sequence batches, although it is rather unintuitive."
   ]
  },
  {
   "cell_type": "code",
   "execution_count": 16,
   "metadata": {
    "collapsed": false,
    "deletable": true,
    "editable": true
   },
   "outputs": [
    {
     "name": "stdout",
     "output_type": "stream",
     "text": [
      "Tests Passed\n"
     ]
    }
   ],
   "source": [
    "def get_batches(int_text, batch_size, seq_length):\n",
    "    \"\"\"\n",
    "    Return batches of input and target\n",
    "    :param int_text: Text with the words replaced by their ids\n",
    "    :param batch_size: The size of batch\n",
    "    :param seq_length: The length of sequence\n",
    "    :return: Batches as a Numpy array\n",
    "    \"\"\"\n",
    "    \n",
    "    # get the number of batches the text can make\n",
    "    n_batches = (len(int_text) // (batch_size * seq_length))\n",
    "\n",
    "    batch_origin = np.array(int_text[: n_batches * batch_size * seq_length])\n",
    "    batch_shifted = np.array(int_text[1: n_batches * batch_size * seq_length + 1])\n",
    "    \n",
    "    batch_shifted[-1] = batch_origin[0]\n",
    "\n",
    "    batch_origin_reshaop = np.split(batch_origin.reshape(batch_size, -1), n_batches, 1)\n",
    "    batch_shifted_reshape = np.split(batch_shifted.reshape(batch_size, -1), n_batches, 1)\n",
    "\n",
    "    batches = np.array(list(zip(batch_origin_reshaop, batch_shifted_reshape)))\n",
    "    \n",
    "    return batches\n",
    "\n",
    "\"\"\"\n",
    "DON'T MODIFY ANYTHING IN THIS CELL THAT IS BELOW THIS LINE\n",
    "\"\"\"\n",
    "tests.test_get_batches(get_batches)"
   ]
  },
  {
   "cell_type": "markdown",
   "metadata": {
    "deletable": true,
    "editable": true
   },
   "source": [
    "## Neural Network Training\n",
    "### Hyperparameters\n",
    "Tune the following parameters:\n",
    "\n",
    "- Set `num_epochs` to the number of epochs.\n",
    "- Set `batch_size` to the batch size.\n",
    "- Set `rnn_size` to the size of the RNNs.\n",
    "- Set `embed_dim` to the size of the embedding.\n",
    "- Set `seq_length` to the length of sequence.\n",
    "- Set `learning_rate` to the learning rate.\n",
    "- Set `show_every_n_batches` to the number of batches the neural network should print progress."
   ]
  },
  {
   "cell_type": "code",
   "execution_count": 17,
   "metadata": {
    "collapsed": true,
    "deletable": true,
    "editable": true
   },
   "outputs": [],
   "source": [
    "# Number of Epochs\n",
    "num_epochs = 500\n",
    "# Batch Size\n",
    "batch_size = 256\n",
    "# RNN Size\n",
    "rnn_size = 512\n",
    "# Embedding Dimension Size\n",
    "embed_dim = 512\n",
    "# Sequence Length\n",
    "seq_length = 20\n",
    "# Learning Rate\n",
    "learning_rate = 0.003\n",
    "# Show stats for every n number of batches\n",
    "show_every_n_batches = 30\n",
    "\n",
    "\"\"\"\n",
    "DON'T MODIFY ANYTHING IN THIS CELL THAT IS BELOW THIS LINE\n",
    "\"\"\"\n",
    "save_dir = './save'"
   ]
  },
  {
   "cell_type": "markdown",
   "metadata": {
    "deletable": true,
    "editable": true
   },
   "source": [
    "### Build the Graph\n",
    "Build the graph using the neural network you implemented."
   ]
  },
  {
   "cell_type": "code",
   "execution_count": 18,
   "metadata": {
    "collapsed": false,
    "deletable": true,
    "editable": true
   },
   "outputs": [],
   "source": [
    "\"\"\"\n",
    "DON'T MODIFY ANYTHING IN THIS CELL\n",
    "\"\"\"\n",
    "from tensorflow.contrib import seq2seq\n",
    "\n",
    "train_graph = tf.Graph()\n",
    "with train_graph.as_default():\n",
    "    vocab_size = len(int_to_vocab)\n",
    "    input_text, targets, lr = get_inputs()\n",
    "    input_data_shape = tf.shape(input_text)\n",
    "    cell, initial_state = get_init_cell(input_data_shape[0], rnn_size)\n",
    "    logits, final_state = build_nn(cell, rnn_size, input_text, vocab_size, embed_dim)\n",
    "\n",
    "    # Probabilities for generating words\n",
    "    probs = tf.nn.softmax(logits, name='probs')\n",
    "\n",
    "    # Loss function\n",
    "    cost = seq2seq.sequence_loss(\n",
    "        logits,\n",
    "        targets,\n",
    "        tf.ones([input_data_shape[0], input_data_shape[1]]))\n",
    "\n",
    "    # Optimizer\n",
    "    optimizer = tf.train.AdamOptimizer(lr)\n",
    "\n",
    "    # Gradient Clipping\n",
    "    gradients = optimizer.compute_gradients(cost)\n",
    "    capped_gradients = [(tf.clip_by_value(grad, -1., 1.), var) for grad, var in gradients if grad is not None]\n",
    "    train_op = optimizer.apply_gradients(capped_gradients)"
   ]
  },
  {
   "cell_type": "markdown",
   "metadata": {
    "deletable": true,
    "editable": true
   },
   "source": [
    "## Train\n",
    "Train the neural network on the preprocessed data.  If you have a hard time getting a good loss, check the [forms](https://discussions.udacity.com/) to see if anyone is having the same problem."
   ]
  },
  {
   "cell_type": "code",
   "execution_count": 19,
   "metadata": {
    "collapsed": false,
    "deletable": true,
    "editable": true,
    "scrolled": true
   },
   "outputs": [
    {
     "name": "stdout",
     "output_type": "stream",
     "text": [
      "Epoch   0 Batch    0/13   train_loss = 8.824\n",
      "Epoch   2 Batch    4/13   train_loss = 6.000\n",
      "Epoch   4 Batch    8/13   train_loss = 5.793\n",
      "Epoch   6 Batch   12/13   train_loss = 5.587\n",
      "Epoch   9 Batch    3/13   train_loss = 5.234\n",
      "Epoch  11 Batch    7/13   train_loss = 5.069\n",
      "Epoch  13 Batch   11/13   train_loss = 4.850\n",
      "Epoch  16 Batch    2/13   train_loss = 4.679\n",
      "Epoch  18 Batch    6/13   train_loss = 4.667\n",
      "Epoch  20 Batch   10/13   train_loss = 4.516\n",
      "Epoch  23 Batch    1/13   train_loss = 4.389\n",
      "Epoch  25 Batch    5/13   train_loss = 4.282\n",
      "Epoch  27 Batch    9/13   train_loss = 4.184\n",
      "Epoch  30 Batch    0/13   train_loss = 4.069\n",
      "Epoch  32 Batch    4/13   train_loss = 4.007\n",
      "Epoch  34 Batch    8/13   train_loss = 3.884\n",
      "Epoch  36 Batch   12/13   train_loss = 3.882\n",
      "Epoch  39 Batch    3/13   train_loss = 3.753\n",
      "Epoch  41 Batch    7/13   train_loss = 3.611\n",
      "Epoch  43 Batch   11/13   train_loss = 3.492\n",
      "Epoch  46 Batch    2/13   train_loss = 3.441\n",
      "Epoch  48 Batch    6/13   train_loss = 3.336\n",
      "Epoch  50 Batch   10/13   train_loss = 3.305\n",
      "Epoch  53 Batch    1/13   train_loss = 3.185\n",
      "Epoch  55 Batch    5/13   train_loss = 3.133\n",
      "Epoch  57 Batch    9/13   train_loss = 2.987\n",
      "Epoch  60 Batch    0/13   train_loss = 2.959\n",
      "Epoch  62 Batch    4/13   train_loss = 2.927\n",
      "Epoch  64 Batch    8/13   train_loss = 2.807\n",
      "Epoch  66 Batch   12/13   train_loss = 2.777\n",
      "Epoch  69 Batch    3/13   train_loss = 2.694\n",
      "Epoch  71 Batch    7/13   train_loss = 2.563\n",
      "Epoch  73 Batch   11/13   train_loss = 2.492\n",
      "Epoch  76 Batch    2/13   train_loss = 2.568\n",
      "Epoch  78 Batch    6/13   train_loss = 2.479\n",
      "Epoch  80 Batch   10/13   train_loss = 2.482\n",
      "Epoch  83 Batch    1/13   train_loss = 2.444\n",
      "Epoch  85 Batch    5/13   train_loss = 2.445\n",
      "Epoch  87 Batch    9/13   train_loss = 2.293\n",
      "Epoch  90 Batch    0/13   train_loss = 2.284\n",
      "Epoch  92 Batch    4/13   train_loss = 2.228\n",
      "Epoch  94 Batch    8/13   train_loss = 2.126\n",
      "Epoch  96 Batch   12/13   train_loss = 2.138\n",
      "Epoch  99 Batch    3/13   train_loss = 2.119\n",
      "Epoch 101 Batch    7/13   train_loss = 2.015\n",
      "Epoch 103 Batch   11/13   train_loss = 1.994\n",
      "Epoch 106 Batch    2/13   train_loss = 2.054\n",
      "Epoch 108 Batch    6/13   train_loss = 1.993\n",
      "Epoch 110 Batch   10/13   train_loss = 2.054\n",
      "Epoch 113 Batch    1/13   train_loss = 2.132\n",
      "Epoch 115 Batch    5/13   train_loss = 2.055\n",
      "Epoch 117 Batch    9/13   train_loss = 1.939\n",
      "Epoch 120 Batch    0/13   train_loss = 1.986\n",
      "Epoch 122 Batch    4/13   train_loss = 1.885\n",
      "Epoch 124 Batch    8/13   train_loss = 1.848\n",
      "Epoch 126 Batch   12/13   train_loss = 1.743\n",
      "Epoch 129 Batch    3/13   train_loss = 1.738\n",
      "Epoch 131 Batch    7/13   train_loss = 1.668\n",
      "Epoch 133 Batch   11/13   train_loss = 1.655\n",
      "Epoch 136 Batch    2/13   train_loss = 1.713\n",
      "Epoch 138 Batch    6/13   train_loss = 1.602\n",
      "Epoch 140 Batch   10/13   train_loss = 1.574\n",
      "Epoch 143 Batch    1/13   train_loss = 1.598\n",
      "Epoch 145 Batch    5/13   train_loss = 1.614\n",
      "Epoch 147 Batch    9/13   train_loss = 1.562\n",
      "Epoch 150 Batch    0/13   train_loss = 1.576\n",
      "Epoch 152 Batch    4/13   train_loss = 1.641\n",
      "Epoch 154 Batch    8/13   train_loss = 1.624\n",
      "Epoch 156 Batch   12/13   train_loss = 1.678\n",
      "Epoch 159 Batch    3/13   train_loss = 1.577\n",
      "Epoch 161 Batch    7/13   train_loss = 1.467\n",
      "Epoch 163 Batch   11/13   train_loss = 1.440\n",
      "Epoch 166 Batch    2/13   train_loss = 1.460\n",
      "Epoch 168 Batch    6/13   train_loss = 1.407\n",
      "Epoch 170 Batch   10/13   train_loss = 1.366\n",
      "Epoch 173 Batch    1/13   train_loss = 1.388\n",
      "Epoch 175 Batch    5/13   train_loss = 1.374\n",
      "Epoch 177 Batch    9/13   train_loss = 1.332\n",
      "Epoch 180 Batch    0/13   train_loss = 1.325\n",
      "Epoch 182 Batch    4/13   train_loss = 1.331\n",
      "Epoch 184 Batch    8/13   train_loss = 1.282\n",
      "Epoch 186 Batch   12/13   train_loss = 1.285\n",
      "Epoch 189 Batch    3/13   train_loss = 1.300\n",
      "Epoch 191 Batch    7/13   train_loss = 1.228\n",
      "Epoch 193 Batch   11/13   train_loss = 1.209\n",
      "Epoch 196 Batch    2/13   train_loss = 1.283\n",
      "Epoch 198 Batch    6/13   train_loss = 1.215\n",
      "Epoch 200 Batch   10/13   train_loss = 1.246\n",
      "Epoch 203 Batch    1/13   train_loss = 1.201\n",
      "Epoch 205 Batch    5/13   train_loss = 1.318\n",
      "Epoch 207 Batch    9/13   train_loss = 1.219\n",
      "Epoch 210 Batch    0/13   train_loss = 1.258\n",
      "Epoch 212 Batch    4/13   train_loss = 1.220\n",
      "Epoch 214 Batch    8/13   train_loss = 1.210\n",
      "Epoch 216 Batch   12/13   train_loss = 1.164\n",
      "Epoch 219 Batch    3/13   train_loss = 1.188\n",
      "Epoch 221 Batch    7/13   train_loss = 1.084\n",
      "Epoch 223 Batch   11/13   train_loss = 1.111\n",
      "Epoch 226 Batch    2/13   train_loss = 1.149\n",
      "Epoch 228 Batch    6/13   train_loss = 1.093\n",
      "Epoch 230 Batch   10/13   train_loss = 1.067\n",
      "Epoch 233 Batch    1/13   train_loss = 1.100\n",
      "Epoch 235 Batch    5/13   train_loss = 1.119\n",
      "Epoch 237 Batch    9/13   train_loss = 1.041\n",
      "Epoch 240 Batch    0/13   train_loss = 1.080\n",
      "Epoch 242 Batch    4/13   train_loss = 1.053\n",
      "Epoch 244 Batch    8/13   train_loss = 1.052\n",
      "Epoch 246 Batch   12/13   train_loss = 1.001\n",
      "Epoch 249 Batch    3/13   train_loss = 1.043\n",
      "Epoch 251 Batch    7/13   train_loss = 0.980\n",
      "Epoch 253 Batch   11/13   train_loss = 0.974\n",
      "Epoch 256 Batch    2/13   train_loss = 1.023\n",
      "Epoch 258 Batch    6/13   train_loss = 0.977\n",
      "Epoch 260 Batch   10/13   train_loss = 0.972\n",
      "Epoch 263 Batch    1/13   train_loss = 0.954\n",
      "Epoch 265 Batch    5/13   train_loss = 1.009\n",
      "Epoch 267 Batch    9/13   train_loss = 0.939\n",
      "Epoch 270 Batch    0/13   train_loss = 0.963\n",
      "Epoch 272 Batch    4/13   train_loss = 0.946\n",
      "Epoch 274 Batch    8/13   train_loss = 0.950\n",
      "Epoch 276 Batch   12/13   train_loss = 0.958\n",
      "Epoch 279 Batch    3/13   train_loss = 0.947\n",
      "Epoch 281 Batch    7/13   train_loss = 0.938\n",
      "Epoch 283 Batch   11/13   train_loss = 0.900\n",
      "Epoch 286 Batch    2/13   train_loss = 0.941\n",
      "Epoch 288 Batch    6/13   train_loss = 0.906\n",
      "Epoch 290 Batch   10/13   train_loss = 0.912\n",
      "Epoch 293 Batch    1/13   train_loss = 0.935\n",
      "Epoch 295 Batch    5/13   train_loss = 0.966\n",
      "Epoch 297 Batch    9/13   train_loss = 0.925\n",
      "Epoch 300 Batch    0/13   train_loss = 0.928\n",
      "Epoch 302 Batch    4/13   train_loss = 0.911\n",
      "Epoch 304 Batch    8/13   train_loss = 0.938\n",
      "Epoch 306 Batch   12/13   train_loss = 0.932\n",
      "Epoch 309 Batch    3/13   train_loss = 0.949\n",
      "Epoch 311 Batch    7/13   train_loss = 0.874\n",
      "Epoch 313 Batch   11/13   train_loss = 0.898\n",
      "Epoch 316 Batch    2/13   train_loss = 0.847\n",
      "Epoch 318 Batch    6/13   train_loss = 0.858\n",
      "Epoch 320 Batch   10/13   train_loss = 0.817\n",
      "Epoch 323 Batch    1/13   train_loss = 0.839\n",
      "Epoch 325 Batch    5/13   train_loss = 0.833\n",
      "Epoch 327 Batch    9/13   train_loss = 0.822\n",
      "Epoch 330 Batch    0/13   train_loss = 0.834\n",
      "Epoch 332 Batch    4/13   train_loss = 0.818\n",
      "Epoch 334 Batch    8/13   train_loss = 0.814\n",
      "Epoch 336 Batch   12/13   train_loss = 0.819\n",
      "Epoch 339 Batch    3/13   train_loss = 0.819\n",
      "Epoch 341 Batch    7/13   train_loss = 0.759\n",
      "Epoch 343 Batch   11/13   train_loss = 0.784\n",
      "Epoch 346 Batch    2/13   train_loss = 0.823\n",
      "Epoch 348 Batch    6/13   train_loss = 0.787\n",
      "Epoch 350 Batch   10/13   train_loss = 0.784\n",
      "Epoch 353 Batch    1/13   train_loss = 0.784\n",
      "Epoch 355 Batch    5/13   train_loss = 0.791\n",
      "Epoch 357 Batch    9/13   train_loss = 0.768\n",
      "Epoch 360 Batch    0/13   train_loss = 0.759\n",
      "Epoch 362 Batch    4/13   train_loss = 0.769\n",
      "Epoch 364 Batch    8/13   train_loss = 0.766\n",
      "Epoch 366 Batch   12/13   train_loss = 0.771\n",
      "Epoch 369 Batch    3/13   train_loss = 0.785\n",
      "Epoch 371 Batch    7/13   train_loss = 0.743\n",
      "Epoch 373 Batch   11/13   train_loss = 0.749\n",
      "Epoch 376 Batch    2/13   train_loss = 0.770\n",
      "Epoch 378 Batch    6/13   train_loss = 0.742\n",
      "Epoch 380 Batch   10/13   train_loss = 0.760\n",
      "Epoch 383 Batch    1/13   train_loss = 0.741\n",
      "Epoch 385 Batch    5/13   train_loss = 0.748\n",
      "Epoch 387 Batch    9/13   train_loss = 0.750\n",
      "Epoch 390 Batch    0/13   train_loss = 0.771\n",
      "Epoch 392 Batch    4/13   train_loss = 0.730\n",
      "Epoch 394 Batch    8/13   train_loss = 0.726\n",
      "Epoch 396 Batch   12/13   train_loss = 0.754\n",
      "Epoch 399 Batch    3/13   train_loss = 0.765\n",
      "Epoch 401 Batch    7/13   train_loss = 0.739\n",
      "Epoch 403 Batch   11/13   train_loss = 0.732\n",
      "Epoch 406 Batch    2/13   train_loss = 0.770\n",
      "Epoch 408 Batch    6/13   train_loss = 0.709\n",
      "Epoch 410 Batch   10/13   train_loss = 0.721\n",
      "Epoch 413 Batch    1/13   train_loss = 0.733\n",
      "Epoch 415 Batch    5/13   train_loss = 0.748\n",
      "Epoch 417 Batch    9/13   train_loss = 0.699\n",
      "Epoch 420 Batch    0/13   train_loss = 0.691\n",
      "Epoch 422 Batch    4/13   train_loss = 0.700\n",
      "Epoch 424 Batch    8/13   train_loss = 0.723\n",
      "Epoch 426 Batch   12/13   train_loss = 0.676\n",
      "Epoch 429 Batch    3/13   train_loss = 0.708\n",
      "Epoch 431 Batch    7/13   train_loss = 0.675\n",
      "Epoch 433 Batch   11/13   train_loss = 0.672\n",
      "Epoch 436 Batch    2/13   train_loss = 0.722\n",
      "Epoch 438 Batch    6/13   train_loss = 0.659\n",
      "Epoch 440 Batch   10/13   train_loss = 0.665\n",
      "Epoch 443 Batch    1/13   train_loss = 0.690\n",
      "Epoch 445 Batch    5/13   train_loss = 0.697\n",
      "Epoch 447 Batch    9/13   train_loss = 0.689\n",
      "Epoch 450 Batch    0/13   train_loss = 0.654\n",
      "Epoch 452 Batch    4/13   train_loss = 0.664\n",
      "Epoch 454 Batch    8/13   train_loss = 0.673\n",
      "Epoch 456 Batch   12/13   train_loss = 0.671\n",
      "Epoch 459 Batch    3/13   train_loss = 0.703\n",
      "Epoch 461 Batch    7/13   train_loss = 0.667\n",
      "Epoch 463 Batch   11/13   train_loss = 0.634\n",
      "Epoch 466 Batch    2/13   train_loss = 0.686\n",
      "Epoch 468 Batch    6/13   train_loss = 0.656\n",
      "Epoch 470 Batch   10/13   train_loss = 0.640\n",
      "Epoch 473 Batch    1/13   train_loss = 0.654\n",
      "Epoch 475 Batch    5/13   train_loss = 0.664\n",
      "Epoch 477 Batch    9/13   train_loss = 0.636\n",
      "Epoch 480 Batch    0/13   train_loss = 0.648\n",
      "Epoch 482 Batch    4/13   train_loss = 0.640\n",
      "Epoch 484 Batch    8/13   train_loss = 0.670\n",
      "Epoch 486 Batch   12/13   train_loss = 0.669\n",
      "Epoch 489 Batch    3/13   train_loss = 0.673\n",
      "Epoch 491 Batch    7/13   train_loss = 0.641\n",
      "Epoch 493 Batch   11/13   train_loss = 0.630\n",
      "Epoch 496 Batch    2/13   train_loss = 0.648\n",
      "Epoch 498 Batch    6/13   train_loss = 0.648\n",
      "Model Trained and Saved\n"
     ]
    }
   ],
   "source": [
    "\"\"\"\n",
    "DON'T MODIFY ANYTHING IN THIS CELL\n",
    "\"\"\"\n",
    "batches = get_batches(int_text, batch_size, seq_length)\n",
    "\n",
    "with tf.Session(graph=train_graph) as sess:\n",
    "    sess.run(tf.global_variables_initializer())\n",
    "\n",
    "    for epoch_i in range(num_epochs):\n",
    "        state = sess.run(initial_state, {input_text: batches[0][0]})\n",
    "\n",
    "        for batch_i, (x, y) in enumerate(batches):\n",
    "            feed = {\n",
    "                input_text: x,\n",
    "                targets: y,\n",
    "                initial_state: state,\n",
    "                lr: learning_rate}\n",
    "            train_loss, state, _ = sess.run([cost, final_state, train_op], feed)\n",
    "\n",
    "            # Show every <show_every_n_batches> batches\n",
    "            if (epoch_i * len(batches) + batch_i) % show_every_n_batches == 0:\n",
    "                print('Epoch {:>3} Batch {:>4}/{}   train_loss = {:.3f}'.format(\n",
    "                    epoch_i,\n",
    "                    batch_i,\n",
    "                    len(batches),\n",
    "                    train_loss))\n",
    "\n",
    "    # Save Model\n",
    "    saver = tf.train.Saver()\n",
    "    saver.save(sess, save_dir)\n",
    "    print('Model Trained and Saved')"
   ]
  },
  {
   "cell_type": "markdown",
   "metadata": {
    "deletable": true,
    "editable": true
   },
   "source": [
    "## Save Parameters\n",
    "Save `seq_length` and `save_dir` for generating a new TV script."
   ]
  },
  {
   "cell_type": "code",
   "execution_count": 20,
   "metadata": {
    "collapsed": false,
    "deletable": true,
    "editable": true
   },
   "outputs": [],
   "source": [
    "\"\"\"\n",
    "DON'T MODIFY ANYTHING IN THIS CELL\n",
    "\"\"\"\n",
    "# Save parameters for checkpoint\n",
    "helper.save_params((seq_length, save_dir))"
   ]
  },
  {
   "cell_type": "markdown",
   "metadata": {
    "deletable": true,
    "editable": true
   },
   "source": [
    "# Checkpoint"
   ]
  },
  {
   "cell_type": "code",
   "execution_count": 21,
   "metadata": {
    "collapsed": false,
    "deletable": true,
    "editable": true
   },
   "outputs": [],
   "source": [
    "\"\"\"\n",
    "DON'T MODIFY ANYTHING IN THIS CELL\n",
    "\"\"\"\n",
    "import tensorflow as tf\n",
    "import numpy as np\n",
    "import helper\n",
    "import problem_unittests as tests\n",
    "\n",
    "_, vocab_to_int, int_to_vocab, token_dict = helper.load_preprocess()\n",
    "seq_length, load_dir = helper.load_params()"
   ]
  },
  {
   "cell_type": "markdown",
   "metadata": {
    "deletable": true,
    "editable": true
   },
   "source": [
    "## Implement Generate Functions\n",
    "### Get Tensors\n",
    "Get tensors from `loaded_graph` using the function [`get_tensor_by_name()`](https://www.tensorflow.org/api_docs/python/tf/Graph#get_tensor_by_name).  Get the tensors using the following names:\n",
    "- \"input:0\"\n",
    "- \"initial_state:0\"\n",
    "- \"final_state:0\"\n",
    "- \"probs:0\"\n",
    "\n",
    "Return the tensors in the following tuple `(InputTensor, InitialStateTensor, FinalStateTensor, ProbsTensor)` "
   ]
  },
  {
   "cell_type": "code",
   "execution_count": 22,
   "metadata": {
    "collapsed": false,
    "deletable": true,
    "editable": true
   },
   "outputs": [
    {
     "name": "stdout",
     "output_type": "stream",
     "text": [
      "Tests Passed\n"
     ]
    }
   ],
   "source": [
    "def get_tensors(loaded_graph):\n",
    "    \"\"\"\n",
    "    Get input, initial state, final state, and probabilities tensor from <loaded_graph>\n",
    "    :param loaded_graph: TensorFlow graph loaded from file\n",
    "    :return: Tuple (InputTensor, InitialStateTensor, FinalStateTensor, ProbsTensor)\n",
    "    \"\"\"\n",
    "    \n",
    "    inputs = loaded_graph.get_tensor_by_name(\"input:0\")\n",
    "    \n",
    "    initial_state = loaded_graph.get_tensor_by_name(\"initial_state:0\")\n",
    "    \n",
    "    final_state = loaded_graph.get_tensor_by_name(\"final_state:0\")\n",
    "    \n",
    "    probs = loaded_graph.get_tensor_by_name(\"probs:0\")\n",
    "    \n",
    "    return inputs, initial_state, final_state, probs\n",
    "\n",
    "\"\"\"\n",
    "DON'T MODIFY ANYTHING IN THIS CELL THAT IS BELOW THIS LINE\n",
    "\"\"\"\n",
    "tests.test_get_tensors(get_tensors)"
   ]
  },
  {
   "cell_type": "markdown",
   "metadata": {
    "deletable": true,
    "editable": true
   },
   "source": [
    "### Choose Word\n",
    "Implement the `pick_word()` function to select the next word using `probabilities`."
   ]
  },
  {
   "cell_type": "code",
   "execution_count": 23,
   "metadata": {
    "collapsed": false,
    "deletable": true,
    "editable": true
   },
   "outputs": [
    {
     "name": "stdout",
     "output_type": "stream",
     "text": [
      "Tests Passed\n"
     ]
    }
   ],
   "source": [
    "def pick_word(probabilities, int_to_vocab):\n",
    "    \"\"\"\n",
    "    Pick the next word in the generated text\n",
    "    :param probabilities: Probabilites of the next word\n",
    "    :param int_to_vocab: Dictionary of word ids as the keys and words as the values\n",
    "    :return: String of the predicted word\n",
    "    \"\"\"\n",
    "    chances = []\n",
    "    \n",
    "    for idx, prob in enumerate(probabilities):\n",
    "        if prob >= 0.05:\n",
    "            chances.append(int_to_vocab[idx])\n",
    "    \n",
    "    rand = np.random.randint(0, len(chances))\n",
    "    \n",
    "    return str(chances[rand])\n",
    "\n",
    "\n",
    "\"\"\"\n",
    "DON'T MODIFY ANYTHING IN THIS CELL THAT IS BELOW THIS LINE\n",
    "\"\"\"\n",
    "tests.test_pick_word(pick_word)"
   ]
  },
  {
   "cell_type": "markdown",
   "metadata": {
    "deletable": true,
    "editable": true
   },
   "source": [
    "## Generate TV Script\n",
    "This will generate the TV script for you.  Set `gen_length` to the length of TV script you want to generate."
   ]
  },
  {
   "cell_type": "code",
   "execution_count": 24,
   "metadata": {
    "collapsed": false,
    "deletable": true,
    "editable": true
   },
   "outputs": [
    {
     "name": "stdout",
     "output_type": "stream",
     "text": [
      "moe_szyslak: okay pretty gee! they sayin' you didn't happened for me.\n",
      "\n",
      "\n",
      "lenny_leonard: you're under a drink door you just?\n",
      "lenny_leonard: three?\n",
      "moe_szyslak: aw\" my ma's is to wrong\" and now i listen away\" tell i see.\n",
      "lenny_leonard: hey\" because i've been all from the ticket you like now.\n",
      "homer_simpson: well moe\" you sure look at a fishin' need.\n",
      "homer_simpson: yeah\" i'd tell you. how'd i'll you return to him?. beat homer) dramatic\"\" you're talkin' good in your card.\n",
      "marge_simpson: can the matter\" homer. somebody me\" like as i move it in a couple of fistiana.\n",
      "moe_szyslak: geez\" i have both twenty hours and.... then who was done of the\" and man... my only never was me to the point.\n",
      "homer_simpson: oh\" how i look\" fat tony an wanna ned. you know how\" uh.\n",
      "homer_simpson:. firmly) yeah. family did... we can let the moe\"\n"
     ]
    }
   ],
   "source": [
    "gen_length = 200\n",
    "# homer_simpson, moe_szyslak, or Barney_Gumble\n",
    "prime_word = 'moe_szyslak'\n",
    "\n",
    "\"\"\"\n",
    "DON'T MODIFY ANYTHING IN THIS CELL THAT IS BELOW THIS LINE\n",
    "\"\"\"\n",
    "loaded_graph = tf.Graph()\n",
    "with tf.Session(graph=loaded_graph) as sess:\n",
    "    # Load saved model\n",
    "    loader = tf.train.import_meta_graph(load_dir + '.meta')\n",
    "    loader.restore(sess, load_dir)\n",
    "\n",
    "    # Get Tensors from loaded model\n",
    "    input_text, initial_state, final_state, probs = get_tensors(loaded_graph)\n",
    "\n",
    "    # Sentences generation setup\n",
    "    gen_sentences = [prime_word + ':']\n",
    "    prev_state = sess.run(initial_state, {input_text: np.array([[1]])})\n",
    "\n",
    "    # Generate sentences\n",
    "    for n in range(gen_length):\n",
    "        # Dynamic Input\n",
    "        dyn_input = [[vocab_to_int[word] for word in gen_sentences[-seq_length:]]]\n",
    "        dyn_seq_length = len(dyn_input[0])\n",
    "\n",
    "        # Get Prediction\n",
    "        probabilities, prev_state = sess.run(\n",
    "            [probs, final_state],\n",
    "            {input_text: dyn_input, initial_state: prev_state})\n",
    "        \n",
    "        pred_word = pick_word(probabilities[dyn_seq_length-1], int_to_vocab)\n",
    "\n",
    "        gen_sentences.append(pred_word)\n",
    "    \n",
    "    # Remove tokens\n",
    "    tv_script = ' '.join(gen_sentences)\n",
    "    for key, token in token_dict.items():\n",
    "        ending = ' ' if key in ['\\n', '(', '\"'] else ''\n",
    "        tv_script = tv_script.replace(' ' + token.lower(), key)\n",
    "    tv_script = tv_script.replace('\\n ', '\\n')\n",
    "    tv_script = tv_script.replace('( ', '(')\n",
    "        \n",
    "    print(tv_script)"
   ]
  },
  {
   "cell_type": "markdown",
   "metadata": {
    "deletable": true,
    "editable": true
   },
   "source": [
    "# The TV Script is Nonsensical\n",
    "It's ok if the TV script doesn't make any sense.  We trained on less than a megabyte of text.  In order to get good results, you'll have to use a smaller vocabulary or get more data.  Luckly there's more data!  As we mentioned in the begging of this project, this is a subset of [another dataset](https://www.kaggle.com/wcukierski/the-simpsons-by-the-data).  We didn't have you train on all the data, because that would take too long.  However, you are free to train your neural network on all the data.  After you complete the project, of course.\n",
    "# Submitting This Project\n",
    "When submitting this project, make sure to run all the cells before saving the notebook. Save the notebook file as \"dlnd_tv_script_generation.ipynb\" and save it as a HTML file under \"File\" -> \"Download as\". Include the \"helper.py\" and \"problem_unittests.py\" files in your submission."
   ]
  }
 ],
 "metadata": {
  "kernelspec": {
   "display_name": "Python 3",
   "language": "python",
   "name": "python3"
  },
  "language_info": {
   "codemirror_mode": {
    "name": "ipython",
    "version": 3
   },
   "file_extension": ".py",
   "mimetype": "text/x-python",
   "name": "python",
   "nbconvert_exporter": "python",
   "pygments_lexer": "ipython3",
   "version": "3.6.1"
  },
  "widgets": {
   "state": {},
   "version": "1.1.2"
  }
 },
 "nbformat": 4,
 "nbformat_minor": 0
}
